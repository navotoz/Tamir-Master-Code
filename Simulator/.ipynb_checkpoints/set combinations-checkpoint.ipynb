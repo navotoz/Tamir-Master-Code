{
 "cells": [
  {
   "cell_type": "code",
   "execution_count": 2,
   "metadata": {
    "pycharm": {
     "is_executing": false
    }
   },
   "outputs": [],
   "source": [
    "import csv\n",
    "class HandleCSV(object):\n",
    "\n",
    "    @staticmethod\n",
    "    def save_data(data, file_name):\n",
    "        \"\"\"Save to csv format\"\"\"\n",
    "        with open(file_name + \".csv\", 'r') as name:\n",
    "            writer = csv.writer(name, delimiter=',')\n",
    "            writer.writerows(data)\n",
    "\n",
    "    def read_data(self, file_name):\n",
    "        with open(file_name + \".csv\", 'r') as _filehandler:\n",
    "            csv_file_reader = csv.reader(_filehandler)\n",
    "            data = []\n",
    "            manip = []\n",
    "            empty = True\n",
    "            for row in csv_file_reader:\n",
    "                while \"\" in row:\n",
    "                    row.remove(\"\")\n",
    "                if len(row) > 0:\n",
    "                    data.append(row)\n",
    "                    empty = False\n",
    "                else:\n",
    "                    if not empty:\n",
    "                        manip.append(self.read_data_action(data))\n",
    "                        data = []\n",
    "                    empty = True\n",
    "            manip.append(self.read_data_action(data))  # append the last session\n",
    "            return manip\n",
    "\n",
    "    @staticmethod\n",
    "    def read_data_action(data):\n",
    "        manip = list(map(list, zip(*data[1:])))\n",
    "        manip_array_of_dict = []\n",
    "        for i in range(0, len(manip) - 1, 2):\n",
    "            manip_array_of_dict.append({\"joint\": manip[i], \"axe\": manip[i + 1]})\n",
    "        return manip_array_of_dict\n",
    "\n",
    "\n",
    "csv_data = HandleCSV()\n",
    "data_from_csv=csv_data.read_data(\"5dof_configs_all\")\n",
    "dat = []\n",
    "to_add = [[\"roll\", \"pitch\", \"pris\", \"pris\", \"pitch\", \"roll\", \"pris\", \"roll\",\t\"pitch\"],\n",
    "          [\"y\", \"y\", \"z\", \"y\", \"z\",\t\"x\", \"x\", \"z\", \"x\"]]\n",
    "\n",
    "for i in range(20):\n",
    "    d =[]\n",
    "    for j in range(len(data_from_csv[i])):\n",
    "        d.append(data_from_csv[i][j])\n",
    "        a= []\n",
    "        for k in range(len(to_add[0])):\n",
    "            a.append(d[j][\"joint\"] +[to_add[0][k]])\n",
    "            a.append(d[j][\"axe\"]+[to_add[1][k]])\n",
    "        dat.append(a)"
   ]
  },
  {
   "cell_type": "code",
   "execution_count": null,
   "metadata": {},
   "outputs": [],
   "source": []
  },
  {
   "cell_type": "code",
   "execution_count": null,
   "metadata": {},
   "outputs": [],
   "source": []
  }
 ],
 "metadata": {
  "kernelspec": {
   "display_name": "Python 3",
   "language": "python",
   "name": "python3"
  },
  "language_info": {
   "codemirror_mode": {
    "name": "ipython",
    "version": 3
   },
   "file_extension": ".py",
   "mimetype": "text/x-python",
   "name": "python",
   "nbconvert_exporter": "python",
   "pygments_lexer": "ipython3",
   "version": "3.6.3"
  },
  "pycharm": {
   "stem_cell": {
    "cell_type": "raw",
    "metadata": {
     "collapsed": false
    },
    "source": []
   }
  }
 },
 "nbformat": 4,
 "nbformat_minor": 1
}
